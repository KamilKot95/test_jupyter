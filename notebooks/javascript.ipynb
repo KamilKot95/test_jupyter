{
 "cells": [
  {
   "cell_type": "markdown",
   "metadata": {},
   "source": [
    "## JavaScript\n",
    "\n",
    "`tslab` supports JavaScript mode."
   ]
  },
  {
   "cell_type": "code",
   "execution_count": null,
   "metadata": {},
   "outputs": [
    {
     "name": "stdout",
     "output_type": "stream",
     "text": [
      "Hello, tslab\n"
     ]
    }
   ],
   "source": [
    "class Hello {\n",
    "    constructor(name) {\n",
    "        // In TypeScript, this line fails with \"Property 'name' does not exist on type 'Hello'.\".\n",
    "        // But this is valid in JavaScript mode.\n",
    "        this.name = name;\n",
    "    }\n",
    "    \n",
    "    sayHello() {\n",
    "        console.log(`Hello, ${this.name}`);\n",
    "    }\n",
    "}\n",
    "\n",
    "const hello = new Hello('tslab');\n",
    "hello.sayHello();"
   ]
  },
  {
   "cell_type": "code",
   "execution_count": null,
   "metadata": {},
   "outputs": [
    {
     "name": "stdout",
     "output_type": "stream",
     "text": [
      "naiveFib(40) = 165580141 (took 1119ms)\n"
     ]
    }
   ],
   "source": [
    "function naiveFib(n) {\n",
    "    if (n > 1) {\n",
    "        return naiveFib(n - 1) + naiveFib(n - 2);\n",
    "    }\n",
    "    return 1;\n",
    "}\n",
    "\n",
    "{\n",
    "    // This is 40x slower if you use Python.\n",
    "    const n = 40;\n",
    "    const start = Date.now()\n",
    "    console.log(`naiveFib(${n}) = ${naiveFib(n)} (took ${Date.now() - start}ms)`)\n",
    "}"
   ]
  },
  {
   "cell_type": "code",
   "execution_count": null,
   "metadata": {},
   "outputs": [
    {
     "data": {
      "text/html": [
       "Hello <span style=\"font-size:x-large\"><b>Java</b>Script</span>!"
      ]
     },
     "metadata": {},
     "output_type": "display_data"
    }
   ],
   "source": [
    "import {display} from \"tslab\";\n",
    "display.html('Hello <span style=\"font-size:x-large\"><b>Java</b>Script</span>!');"
   ]
  },
  {
   "cell_type": "code",
   "execution_count": null,
   "metadata": {},
   "outputs": [
    {
     "name": "stdout",
     "output_type": "stream",
     "text": [
      "obj?.x?.z == \u001b[90mundefined\u001b[39m\n",
      "x ?? y ?? z == \u001b[33m0\u001b[39m\n"
     ]
    }
   ],
   "source": [
    "{\n",
    "    // 1. Optional Chaining\n",
    "    // https://devblogs.microsoft.com/typescript/announcing-typescript-3-7-rc/#optional-chaining\n",
    "    let obj = {x: null};\n",
    "    console.log('obj?.x?.z ==', obj?.x?.z);\n",
    "\n",
    "    // 2. Nullish Coalescing\n",
    "    // https://devblogs.microsoft.com/typescript/announcing-typescript-3-7-rc/#nullish-coalescing\n",
    "    let x = null, y = 0, z = 'hello';\n",
    "    console.log('x ?? y ?? z ==', x ?? y ?? z);\n",
    "}"
   ]
  },
  {
   "cell_type": "markdown",
   "metadata": {},
   "source": [
    "## Type checks\n",
    "\n",
    "`tslab` checks types in Javascript.\n",
    "Read [Type Checking JavaScript Files](https://www.typescriptlang.org/docs/handbook/type-checking-javascript-files.html) tutorial to learn JavaScript with TypeScript."
   ]
  },
  {
   "cell_type": "code",
   "execution_count": null,
   "metadata": {},
   "outputs": [
    {
     "name": "stderr",
     "output_type": "stream",
     "text": [
      "2:1 - Type 'string' is not assignable to type 'number'.\n"
     ]
    }
   ],
   "source": [
    "let x = 10;\n",
    "x = x + 'hello';\n",
    "console.log(x);"
   ]
  },
  {
   "cell_type": "code",
   "execution_count": null,
   "metadata": {},
   "outputs": [
    {
     "name": "stdout",
     "output_type": "stream",
     "text": [
      "123 Hello\n"
     ]
    }
   ],
   "source": [
    "/** @type {any} */\n",
    "let x = 123;\n",
    "x = x + ' Hello';\n",
    "console.log(x);"
   ]
  }
 ],
 "metadata": {
  "kernelspec": {
   "display_name": "JavaScript",
   "language": "javascript",
   "name": "jslab"
  },
  "language_info": {
   "file_extension": ".ts",
   "mimetype": "",
   "name": "javascript",
   "version": ""
  }
 },
 "nbformat": 4,
 "nbformat_minor": 2
}

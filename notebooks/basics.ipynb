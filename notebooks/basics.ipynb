{
 "cells": [
  {
   "cell_type": "code",
   "execution_count": null,
   "metadata": {
    "scrolled": true
   },
   "outputs": [
    {
     "name": "stdout",
     "output_type": "stream",
     "text": [
      "Node.js: v10.16.3\n"
     ]
    }
   ],
   "source": [
    "console.log(`Node.js: ${process.version}`)"
   ]
  },
  {
   "cell_type": "code",
   "execution_count": null,
   "metadata": {},
   "outputs": [],
   "source": [
    "function naiveFib(n: number): number {\n",
    "    if (n > 1) {\n",
    "        return naiveFib(n - 1) + naiveFib(n - 2);\n",
    "    }\n",
    "    return 1;\n",
    "}"
   ]
  },
  {
   "cell_type": "code",
   "execution_count": null,
   "metadata": {},
   "outputs": [
    {
     "name": "stdout",
     "output_type": "stream",
     "text": [
      "naiveFib(40) = 165580141 (took 1177ms)\n"
     ]
    }
   ],
   "source": [
    "{\n",
    "    const n = 40;\n",
    "    const start = Date.now()\n",
    "    console.log(`naiveFib(${n}) = ${naiveFib(n)} (took ${Date.now() - start}ms)`)\n",
    "}"
   ]
  },
  {
   "cell_type": "markdown",
   "metadata": {},
   "source": [
    "# class and interface"
   ]
  },
  {
   "cell_type": "code",
   "execution_count": null,
   "metadata": {},
   "outputs": [
    {
     "name": "stdout",
     "output_type": "stream",
     "text": [
      "Hello, tslab!\n"
     ]
    }
   ],
   "source": [
    "interface Hello {\n",
    "    getMessage(): string;\n",
    "}\n",
    "\n",
    "class HelloImpl implements Hello {\n",
    "    private name: string;\n",
    "\n",
    "    constructor(name: string) {\n",
    "        this.name = name;\n",
    "    }\n",
    "    \n",
    "    getMessage(): string {\n",
    "        return `Hello, ${this.name}!`;\n",
    "    }\n",
    "}\n",
    "\n",
    "function printMessage(h: Hello) {\n",
    "    console.log(h.getMessage());\n",
    "}\n",
    "\n",
    "printMessage(new HelloImpl('tslab'));"
   ]
  },
  {
   "cell_type": "markdown",
   "metadata": {},
   "source": [
    "## Promise and async-await"
   ]
  },
  {
   "cell_type": "code",
   "execution_count": 5,
   "metadata": {},
   "outputs": [
    {
     "name": "stdout",
     "output_type": "stream",
     "text": [
      "Promise { \u001b[36m<pending>\u001b[39m }\n"
     ]
    }
   ],
   "source": [
    "function sleep(ms: number) {\n",
    "    return new Promise(done => setTimeout(done, ms));\n",
    "}\n",
    "\n",
    "(async () => {\n",
    "    const start = Date.now();\n",
    "    await sleep(500);\n",
    "    console.log(`Slept ${Date.now() - start}[ms]`)\n",
    "})();"
   ]
  },
  {
   "cell_type": "markdown",
   "metadata": {},
   "source": [
    "## display"
   ]
  },
  {
   "cell_type": "code",
   "execution_count": null,
   "metadata": {},
   "outputs": [],
   "source": [
    "import {display} from \"tslab\""
   ]
  },
  {
   "cell_type": "markdown",
   "metadata": {},
   "source": [
    "### display HTML"
   ]
  },
  {
   "cell_type": "code",
   "execution_count": null,
   "metadata": {},
   "outputs": [
    {
     "data": {
      "text/html": [
       "Hello <span style=\"color:red;font-weight:bold;font-size:large\">tslab</span>!"
      ]
     },
     "metadata": {},
     "output_type": "display_data"
    },
    {
     "name": "stdout",
     "output_type": "stream",
     "text": [
      "Slept 506[ms]\n"
     ]
    }
   ],
   "source": [
    "display.html('Hello <span style=\"color:red;font-weight:bold;font-size:large\">tslab</span>!')"
   ]
  }
 ],
 "metadata": {
  "kernelspec": {
   "display_name": "TypeScript",
   "language": "typescript",
   "name": "tslab"
  },
  "language_info": {
   "file_extension": ".ts",
   "mimetype": "",
   "name": "javascript",
   "version": ""
  }
 },
 "nbformat": 4,
 "nbformat_minor": 2
}

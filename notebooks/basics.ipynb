{
 "cells": [
  {
   "cell_type": "code",
   "execution_count": null,
   "metadata": {
    "scrolled": true
   },
   "outputs": [
    {
     "name": "stdout",
     "output_type": "stream",
     "text": [
      "Hello, tslab!\n",
      "Node.js: v12.13.0\n"
     ]
    }
   ],
   "source": [
    "console.log(`Hello, tslab!`)\n",
    "console.log(`Node.js: ${process.version}`)"
   ]
  },
  {
   "cell_type": "code",
   "execution_count": null,
   "metadata": {},
   "outputs": [],
   "source": [
    "function naiveFib(n: number): number {\n",
    "    if (n > 1) {\n",
    "        return naiveFib(n - 1) + naiveFib(n - 2);\n",
    "    }\n",
    "    return 1;\n",
    "}"
   ]
  },
  {
   "cell_type": "code",
   "execution_count": null,
   "metadata": {},
   "outputs": [
    {
     "name": "stdout",
     "output_type": "stream",
     "text": [
      "naiveFib(40) = 165580141 (took 1446ms)\n"
     ]
    }
   ],
   "source": [
    "{\n",
    "    // This is 40x slower if you use Python.\n",
    "    const n = 40;\n",
    "    const start = Date.now()\n",
    "    console.log(`naiveFib(${n}) = ${naiveFib(n)} (took ${Date.now() - start}ms)`)\n",
    "}"
   ]
  },
  {
   "cell_type": "markdown",
   "metadata": {},
   "source": [
    "# class and interface"
   ]
  },
  {
   "cell_type": "code",
   "execution_count": null,
   "metadata": {},
   "outputs": [
    {
     "name": "stdout",
     "output_type": "stream",
     "text": [
      "Hello, tslab!\n"
     ]
    }
   ],
   "source": [
    "interface Hello {\n",
    "    getMessage(): string;\n",
    "}\n",
    "\n",
    "class HelloImpl implements Hello {\n",
    "    private name: string;\n",
    "\n",
    "    constructor(name: string) {\n",
    "        this.name = name;\n",
    "    }\n",
    "    \n",
    "    getMessage(): string {\n",
    "        return `Hello, ${this.name}!`;\n",
    "    }\n",
    "}\n",
    "\n",
    "function printMessage(h: Hello) {\n",
    "    console.log(h.getMessage());\n",
    "}\n",
    "\n",
    "printMessage(new HelloImpl('tslab'));"
   ]
  },
  {
   "cell_type": "markdown",
   "metadata": {},
   "source": [
    "## Promise and async-await\n",
    "\n",
    "If the last expression is a `Promise`, `tslab` awaits it automatically."
   ]
  },
  {
   "cell_type": "code",
   "execution_count": null,
   "metadata": {},
   "outputs": [
    {
     "name": "stdout",
     "output_type": "stream",
     "text": [
      "Slept 502[ms]\n"
     ]
    }
   ],
   "source": [
    "(async () => {\n",
    "    let sleep = (ms: number) => new Promise(resolve => setTimeout(resolve, ms));\n",
    "    const start = Date.now();\n",
    "    await sleep(500);\n",
    "    return `Slept ${Date.now() - start}[ms]`\n",
    "})();"
   ]
  },
  {
   "cell_type": "markdown",
   "metadata": {},
   "source": [
    "## display\n",
    "\n",
    "To display non-plain text data, use `tslab.display`."
   ]
  },
  {
   "cell_type": "code",
   "execution_count": null,
   "metadata": {},
   "outputs": [],
   "source": [
    "import {display} from \"tslab\""
   ]
  },
  {
   "cell_type": "markdown",
   "metadata": {},
   "source": [
    "### display HTML"
   ]
  },
  {
   "cell_type": "code",
   "execution_count": null,
   "metadata": {},
   "outputs": [
    {
     "data": {
      "text/html": [
       "Hello <span style=\"color:#007ACC;font-weight:bold;font-size:x-large\">TypeScript</span>!"
      ]
     },
     "metadata": {},
     "output_type": "display_data"
    }
   ],
   "source": [
    "display.html('Hello <span style=\"color:#007ACC;font-weight:bold;font-size:x-large\">TypeScript</span>!')"
   ]
  },
  {
   "cell_type": "markdown",
   "metadata": {},
   "source": [
    "## Supported JavaScript/TypeScript language features\n",
    "\n",
    "`tslab` uses `TypeScript 3.7` internally. You can use all of latest JavaScript language features and even the latest features supported from `TypeScript 3.7`.\n",
    "\n",
    "### ES2015 (ES6)\n",
    "\n",
    "Demostrations of selected [ES2015 features](https://babeljs.io/docs/en/learn/)."
   ]
  },
  {
   "cell_type": "code",
   "execution_count": null,
   "metadata": {},
   "outputs": [
    {
     "name": "stdout",
     "output_type": "stream",
     "text": [
      "{ abc: \u001b[33m123\u001b[39m, klm: \u001b[32m'hello'\u001b[39m }\n",
      "{ x: \u001b[33m1\u001b[39m, y: \u001b[33m2\u001b[39m, z: \u001b[33m3\u001b[39m }\n",
      "array = [ \u001b[33m0\u001b[39m, \u001b[33m4\u001b[39m, \u001b[33m16\u001b[39m, \u001b[33m36\u001b[39m, \u001b[33m64\u001b[39m ]\n"
     ]
    }
   ],
   "source": [
    "{\n",
    "    // class\n",
    "    class MyObj {\n",
    "        abc: number;\n",
    "        xyz: string;\n",
    "        constructor(abc: number, xyz: string) {\n",
    "            this.abc = abc;\n",
    "            this.xyz = xyz;\n",
    "        }\n",
    "    }\n",
    "    // const and let\n",
    "    const obj = new MyObj(123, 'hello');\n",
    "    // Destructuring\n",
    "    let {abc, xyz: klm} =  obj;\n",
    "    // Enhanced Object Literals\n",
    "    console.log({abc, klm});\n",
    "    \n",
    "    // Spread\n",
    "    let [x, y, z] = [1, 2, 3];\n",
    "    console.log({x, y, z})\n",
    "    \n",
    "    // Generator and for-of\n",
    "    let array: number[] = [];\n",
    "    for (let e of (function*(n: number) {\n",
    "        for (let i = 0; i < n; i += 2) {\n",
    "            yield i;\n",
    "        }\n",
    "    })(10)) {\n",
    "        array.push(e * e);\n",
    "    }\n",
    "    console.log('array =', array);\n",
    "}"
   ]
  },
  {
   "cell_type": "markdown",
   "metadata": {},
   "source": [
    "### ES 2017\n",
    "\n",
    "You can use `async` and `await`. `tslab` automatically awaits the result of `await` functioin."
   ]
  },
  {
   "cell_type": "code",
   "execution_count": null,
   "metadata": {},
   "outputs": [
    {
     "name": "stdout",
     "output_type": "stream",
     "text": [
      "Slept 501[ms]\n"
     ]
    }
   ],
   "source": [
    "(async () => {\n",
    "    let sleep = (ms: number) => new Promise(resolve => setTimeout(resolve, ms));\n",
    "    const start = Date.now();\n",
    "    await sleep(500);\n",
    "    return `Slept ${Date.now() - start}[ms]`\n",
    "})();"
   ]
  },
  {
   "cell_type": "markdown",
   "metadata": {},
   "source": [
    "### ESNext\n",
    "TypeScript supports some advanced JavaScript features."
   ]
  },
  {
   "cell_type": "code",
   "execution_count": null,
   "metadata": {},
   "outputs": [
    {
     "name": "stdout",
     "output_type": "stream",
     "text": [
      "obj?.x?.z == \u001b[90mundefined\u001b[39m\n",
      "x ?? y ?? z == \u001b[33m0\u001b[39m\n"
     ]
    }
   ],
   "source": [
    "{\n",
    "    // 1. Optional Chaining\n",
    "    // https://devblogs.microsoft.com/typescript/announcing-typescript-3-7-rc/#optional-chaining\n",
    "    let obj = {x: null};\n",
    "    console.log('obj?.x?.z ==', obj?.x?.z);\n",
    "\n",
    "    // 2. Nullish Coalescing\n",
    "    // https://devblogs.microsoft.com/typescript/announcing-typescript-3-7-rc/#nullish-coalescing\n",
    "    let x = null, y = 0, z = 'hello';\n",
    "    console.log('x ?? y ?? z ==', x ?? y ?? z);\n",
    "\n",
    "}"
   ]
  }
 ],
 "metadata": {
  "kernelspec": {
   "display_name": "TypeScript",
   "language": "typescript",
   "name": "tslab"
  },
  "language_info": {
   "file_extension": ".ts",
   "mimetype": "",
   "name": "javascript",
   "version": ""
  }
 },
 "nbformat": 4,
 "nbformat_minor": 2
}
